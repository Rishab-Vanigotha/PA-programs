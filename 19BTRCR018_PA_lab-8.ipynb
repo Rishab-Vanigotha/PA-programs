{
 "cells": [
  {
   "cell_type": "code",
   "execution_count": 2,
   "metadata": {},
   "outputs": [],
   "source": [
    "# General data analysis/plotting\n",
    "import pandas as pd\n",
    "import matplotlib.pyplot as plt\n",
    "import numpy as np\n",
    "\n",
    "# Data preprocessing\n",
    "from sklearn.preprocessing import StandardScaler\n",
    "from sklearn.model_selection import train_test_split\n",
    "\n",
    "# Neural Net modules\n",
    "from tensorflow.keras.models import Sequential\n",
    "from tensorflow.keras.layers import Dense, Dropout\n",
    "from tensorflow.keras.callbacks import EarlyStopping"
   ]
  },
  {
   "cell_type": "code",
   "execution_count": 3,
   "metadata": {},
   "outputs": [
    {
     "name": "stdout",
     "output_type": "stream",
     "text": [
      "<class 'pandas.core.frame.DataFrame'>\n",
      "RangeIndex: 20640 entries, 0 to 20639\n",
      "Data columns (total 10 columns):\n",
      " #   Column              Non-Null Count  Dtype  \n",
      "---  ------              --------------  -----  \n",
      " 0   longitude           20640 non-null  float64\n",
      " 1   latitude            20640 non-null  float64\n",
      " 2   housing_median_age  20640 non-null  float64\n",
      " 3   total_rooms         20640 non-null  float64\n",
      " 4   total_bedrooms      20433 non-null  float64\n",
      " 5   population          20640 non-null  float64\n",
      " 6   households          20640 non-null  float64\n",
      " 7   median_income       20640 non-null  float64\n",
      " 8   median_house_value  20640 non-null  float64\n",
      " 9   ocean_proximity     20640 non-null  object \n",
      "dtypes: float64(9), object(1)\n",
      "memory usage: 1.6+ MB\n"
     ]
    }
   ],
   "source": [
    "df = pd.read_csv('boston.csv')\n",
    "df.info()"
   ]
  },
  {
   "cell_type": "code",
   "execution_count": 4,
   "metadata": {},
   "outputs": [
    {
     "data": {
      "text/html": [
       "<div>\n",
       "<style scoped>\n",
       "    .dataframe tbody tr th:only-of-type {\n",
       "        vertical-align: middle;\n",
       "    }\n",
       "\n",
       "    .dataframe tbody tr th {\n",
       "        vertical-align: top;\n",
       "    }\n",
       "\n",
       "    .dataframe thead th {\n",
       "        text-align: right;\n",
       "    }\n",
       "</style>\n",
       "<table border=\"1\" class=\"dataframe\">\n",
       "  <thead>\n",
       "    <tr style=\"text-align: right;\">\n",
       "      <th></th>\n",
       "      <th>longitude</th>\n",
       "      <th>latitude</th>\n",
       "      <th>housing_median_age</th>\n",
       "      <th>total_rooms</th>\n",
       "      <th>total_bedrooms</th>\n",
       "      <th>population</th>\n",
       "      <th>households</th>\n",
       "      <th>median_income</th>\n",
       "      <th>median_house_value</th>\n",
       "      <th>ocean_proximity</th>\n",
       "    </tr>\n",
       "  </thead>\n",
       "  <tbody>\n",
       "    <tr>\n",
       "      <th>0</th>\n",
       "      <td>-122.23</td>\n",
       "      <td>37.88</td>\n",
       "      <td>41.0</td>\n",
       "      <td>880.0</td>\n",
       "      <td>129.0</td>\n",
       "      <td>322.0</td>\n",
       "      <td>126.0</td>\n",
       "      <td>8.3252</td>\n",
       "      <td>452600.0</td>\n",
       "      <td>NEAR BAY</td>\n",
       "    </tr>\n",
       "    <tr>\n",
       "      <th>1</th>\n",
       "      <td>-122.22</td>\n",
       "      <td>37.86</td>\n",
       "      <td>21.0</td>\n",
       "      <td>7099.0</td>\n",
       "      <td>1106.0</td>\n",
       "      <td>2401.0</td>\n",
       "      <td>1138.0</td>\n",
       "      <td>8.3014</td>\n",
       "      <td>358500.0</td>\n",
       "      <td>NEAR BAY</td>\n",
       "    </tr>\n",
       "    <tr>\n",
       "      <th>2</th>\n",
       "      <td>-122.24</td>\n",
       "      <td>37.85</td>\n",
       "      <td>52.0</td>\n",
       "      <td>1467.0</td>\n",
       "      <td>190.0</td>\n",
       "      <td>496.0</td>\n",
       "      <td>177.0</td>\n",
       "      <td>7.2574</td>\n",
       "      <td>352100.0</td>\n",
       "      <td>NEAR BAY</td>\n",
       "    </tr>\n",
       "    <tr>\n",
       "      <th>3</th>\n",
       "      <td>-122.25</td>\n",
       "      <td>37.85</td>\n",
       "      <td>52.0</td>\n",
       "      <td>1274.0</td>\n",
       "      <td>235.0</td>\n",
       "      <td>558.0</td>\n",
       "      <td>219.0</td>\n",
       "      <td>5.6431</td>\n",
       "      <td>341300.0</td>\n",
       "      <td>NEAR BAY</td>\n",
       "    </tr>\n",
       "    <tr>\n",
       "      <th>4</th>\n",
       "      <td>-122.25</td>\n",
       "      <td>37.85</td>\n",
       "      <td>52.0</td>\n",
       "      <td>1627.0</td>\n",
       "      <td>280.0</td>\n",
       "      <td>565.0</td>\n",
       "      <td>259.0</td>\n",
       "      <td>3.8462</td>\n",
       "      <td>342200.0</td>\n",
       "      <td>NEAR BAY</td>\n",
       "    </tr>\n",
       "  </tbody>\n",
       "</table>\n",
       "</div>"
      ],
      "text/plain": [
       "   longitude  latitude  housing_median_age  total_rooms  total_bedrooms  \\\n",
       "0    -122.23     37.88                41.0        880.0           129.0   \n",
       "1    -122.22     37.86                21.0       7099.0          1106.0   \n",
       "2    -122.24     37.85                52.0       1467.0           190.0   \n",
       "3    -122.25     37.85                52.0       1274.0           235.0   \n",
       "4    -122.25     37.85                52.0       1627.0           280.0   \n",
       "\n",
       "   population  households  median_income  median_house_value ocean_proximity  \n",
       "0       322.0       126.0         8.3252            452600.0        NEAR BAY  \n",
       "1      2401.0      1138.0         8.3014            358500.0        NEAR BAY  \n",
       "2       496.0       177.0         7.2574            352100.0        NEAR BAY  \n",
       "3       558.0       219.0         5.6431            341300.0        NEAR BAY  \n",
       "4       565.0       259.0         3.8462            342200.0        NEAR BAY  "
      ]
     },
     "execution_count": 4,
     "metadata": {},
     "output_type": "execute_result"
    }
   ],
   "source": [
    "df.head()"
   ]
  },
  {
   "cell_type": "code",
   "execution_count": 5,
   "metadata": {},
   "outputs": [
    {
     "data": {
      "text/plain": [
       "latitude             -0.144160\n",
       "longitude            -0.045967\n",
       "population           -0.024650\n",
       "total_bedrooms        0.049686\n",
       "households            0.065843\n",
       "housing_median_age    0.105623\n",
       "total_rooms           0.134153\n",
       "median_income         0.688075\n",
       "median_house_value    1.000000\n",
       "Name: median_house_value, dtype: float64"
      ]
     },
     "execution_count": 5,
     "metadata": {},
     "output_type": "execute_result"
    }
   ],
   "source": [
    "df.corr()['median_house_value'].sort_values()"
   ]
  },
  {
   "cell_type": "code",
   "execution_count": 6,
   "metadata": {},
   "outputs": [],
   "source": [
    "df.dropna(axis=0, inplace=True)\n",
    "df = pd.get_dummies(df, columns=['ocean_proximity'])"
   ]
  },
  {
   "cell_type": "code",
   "execution_count": 7,
   "metadata": {},
   "outputs": [
    {
     "name": "stdout",
     "output_type": "stream",
     "text": [
      "(20433, 13) (20433,)\n"
     ]
    }
   ],
   "source": [
    "y = df['median_house_value']\n",
    "X = df.drop('median_house_value', axis=1)\n",
    "print(X.shape, y.shape)\n",
    "\n",
    "# convert to numpy array\n",
    "X = np.array(X)\n",
    "y = np.array(y)\n",
    "\n",
    "# split into X_train and X_test\n",
    "# always split into X_train, X_test first THEN apply minmax scaler\n",
    "X_train, X_test, y_train, y_test = train_test_split(X, y,\n",
    "                                                    test_size=0.2,\n",
    "                                                    random_state=42)\n",
    "\n",
    "# use minMax scaler\n",
    "s_scaler = StandardScaler()\n",
    "X_train = s_scaler.fit_transform(X_train)\n",
    "X_test = s_scaler.transform(X_test)"
   ]
  },
  {
   "cell_type": "code",
   "execution_count": 8,
   "metadata": {},
   "outputs": [
    {
     "name": "stdout",
     "output_type": "stream",
     "text": [
      "Model: \"sequential\"\n",
      "_________________________________________________________________\n",
      " Layer (type)                Output Shape              Param #   \n",
      "=================================================================\n",
      " dense (Dense)               (None, 128)               1792      \n",
      "                                                                 \n",
      " dense_1 (Dense)             (None, 64)                8256      \n",
      "                                                                 \n",
      " dense_2 (Dense)             (None, 32)                2080      \n",
      "                                                                 \n",
      " dense_3 (Dense)             (None, 1)                 33        \n",
      "                                                                 \n",
      "=================================================================\n",
      "Total params: 12,161\n",
      "Trainable params: 12,161\n",
      "Non-trainable params: 0\n",
      "_________________________________________________________________\n",
      "Epoch 1/50\n",
      "409/409 [==============================] - 6s 4ms/step - loss: 46969372672.0000 - mae: 184889.7188 - val_loss: 19650367488.0000 - val_mae: 108725.4219\n",
      "Epoch 2/50\n",
      "409/409 [==============================] - 2s 4ms/step - loss: 9470167040.0000 - mae: 71501.6016 - val_loss: 8014420992.0000 - val_mae: 64687.9844\n",
      "Epoch 3/50\n",
      "409/409 [==============================] - 2s 4ms/step - loss: 6820338176.0000 - mae: 59668.4180 - val_loss: 6686908416.0000 - val_mae: 57838.8789\n",
      "Epoch 4/50\n",
      "409/409 [==============================] - 1s 3ms/step - loss: 5904047616.0000 - mae: 54623.5430 - val_loss: 5913122304.0000 - val_mae: 54281.7617\n",
      "Epoch 5/50\n",
      "409/409 [==============================] - 2s 4ms/step - loss: 5373738496.0000 - mae: 51858.2383 - val_loss: 5481811456.0000 - val_mae: 52716.0508\n",
      "Epoch 6/50\n",
      "409/409 [==============================] - 1s 4ms/step - loss: 5079540736.0000 - mae: 50496.1211 - val_loss: 5221998080.0000 - val_mae: 51108.0273\n",
      "Epoch 7/50\n",
      "409/409 [==============================] - 1s 4ms/step - loss: 4889685504.0000 - mae: 49601.4297 - val_loss: 5078576128.0000 - val_mae: 49928.2852\n",
      "Epoch 8/50\n",
      "409/409 [==============================] - 2s 4ms/step - loss: 4777974784.0000 - mae: 48894.8203 - val_loss: 4950870016.0000 - val_mae: 49883.9727\n",
      "Epoch 9/50\n",
      "409/409 [==============================] - 2s 4ms/step - loss: 4688273408.0000 - mae: 48567.9531 - val_loss: 4873760768.0000 - val_mae: 49153.5508\n",
      "Epoch 10/50\n",
      "409/409 [==============================] - 2s 4ms/step - loss: 4619100160.0000 - mae: 48188.5938 - val_loss: 4796703744.0000 - val_mae: 49034.4336\n",
      "Epoch 11/50\n",
      "409/409 [==============================] - 2s 4ms/step - loss: 4567698944.0000 - mae: 47874.3789 - val_loss: 4746781696.0000 - val_mae: 48298.2031\n",
      "Epoch 12/50\n",
      "409/409 [==============================] - 2s 4ms/step - loss: 4517401600.0000 - mae: 47625.3789 - val_loss: 4725072896.0000 - val_mae: 47786.6758\n",
      "Epoch 13/50\n",
      "409/409 [==============================] - 1s 4ms/step - loss: 4478704640.0000 - mae: 47378.0703 - val_loss: 4658548736.0000 - val_mae: 47634.6797\n",
      "Epoch 14/50\n",
      "409/409 [==============================] - 2s 4ms/step - loss: 4441319936.0000 - mae: 47054.1875 - val_loss: 4619837440.0000 - val_mae: 47919.8203\n",
      "Epoch 15/50\n",
      "409/409 [==============================] - 1s 4ms/step - loss: 4416817152.0000 - mae: 46988.9609 - val_loss: 4613790720.0000 - val_mae: 47159.4062\n",
      "Epoch 16/50\n",
      "409/409 [==============================] - 2s 4ms/step - loss: 4393669632.0000 - mae: 46818.4023 - val_loss: 4569906688.0000 - val_mae: 47105.7578\n",
      "Epoch 17/50\n",
      "409/409 [==============================] - 2s 4ms/step - loss: 4364754944.0000 - mae: 46708.5703 - val_loss: 4535619072.0000 - val_mae: 47000.5039\n",
      "Epoch 18/50\n",
      "409/409 [==============================] - 1s 3ms/step - loss: 4354326528.0000 - mae: 46549.8828 - val_loss: 4522395648.0000 - val_mae: 46862.5820\n",
      "Epoch 19/50\n",
      "409/409 [==============================] - 1s 3ms/step - loss: 4333944320.0000 - mae: 46445.8477 - val_loss: 4498824704.0000 - val_mae: 47025.8008\n",
      "Epoch 20/50\n",
      "409/409 [==============================] - 2s 4ms/step - loss: 4323414528.0000 - mae: 46344.7188 - val_loss: 4482327552.0000 - val_mae: 46694.0586\n",
      "Epoch 21/50\n",
      "409/409 [==============================] - 2s 4ms/step - loss: 4305559040.0000 - mae: 46216.1797 - val_loss: 4459534848.0000 - val_mae: 46761.7773\n",
      "Epoch 22/50\n",
      "409/409 [==============================] - 2s 4ms/step - loss: 4290714624.0000 - mae: 46188.3281 - val_loss: 4460631040.0000 - val_mae: 46514.0273\n",
      "Epoch 23/50\n",
      "409/409 [==============================] - 2s 4ms/step - loss: 4277723648.0000 - mae: 46124.5898 - val_loss: 4468554752.0000 - val_mae: 46441.3828\n",
      "Epoch 24/50\n",
      "409/409 [==============================] - 1s 4ms/step - loss: 4273873664.0000 - mae: 46007.0742 - val_loss: 4437618688.0000 - val_mae: 46403.2734\n",
      "Epoch 25/50\n",
      "409/409 [==============================] - 2s 4ms/step - loss: 4259248128.0000 - mae: 45948.9062 - val_loss: 4442299904.0000 - val_mae: 46243.9570\n",
      "Epoch 26/50\n",
      "409/409 [==============================] - 1s 4ms/step - loss: 4247911680.0000 - mae: 45880.2852 - val_loss: 4444302336.0000 - val_mae: 46142.3359\n",
      "Epoch 27/50\n",
      "409/409 [==============================] - 2s 4ms/step - loss: 4244918784.0000 - mae: 45856.8359 - val_loss: 4411918848.0000 - val_mae: 46341.6992\n",
      "Epoch 28/50\n",
      "409/409 [==============================] - 1s 4ms/step - loss: 4230184960.0000 - mae: 45738.8984 - val_loss: 4416724992.0000 - val_mae: 46091.3086\n",
      "Epoch 29/50\n",
      "409/409 [==============================] - 2s 4ms/step - loss: 4225385984.0000 - mae: 45783.2539 - val_loss: 4392019456.0000 - val_mae: 45978.1836\n",
      "Epoch 30/50\n",
      "409/409 [==============================] - 2s 4ms/step - loss: 4217068288.0000 - mae: 45654.7656 - val_loss: 4364784640.0000 - val_mae: 46509.2031\n",
      "Epoch 31/50\n",
      "409/409 [==============================] - 2s 4ms/step - loss: 4212130560.0000 - mae: 45687.0938 - val_loss: 4369508864.0000 - val_mae: 45865.3516\n",
      "Epoch 32/50\n",
      "409/409 [==============================] - 1s 4ms/step - loss: 4207891200.0000 - mae: 45633.5156 - val_loss: 4370304512.0000 - val_mae: 45784.1953\n",
      "Epoch 33/50\n",
      "409/409 [==============================] - 2s 4ms/step - loss: 4199712768.0000 - mae: 45581.1602 - val_loss: 4341946880.0000 - val_mae: 45838.8516\n",
      "Epoch 34/50\n",
      "409/409 [==============================] - 1s 4ms/step - loss: 4192383488.0000 - mae: 45476.5117 - val_loss: 4347041792.0000 - val_mae: 45749.2227\n",
      "Epoch 35/50\n",
      "409/409 [==============================] - 1s 4ms/step - loss: 4184993280.0000 - mae: 45439.7734 - val_loss: 4353717248.0000 - val_mae: 45730.1875\n",
      "Epoch 36/50\n",
      "409/409 [==============================] - 1s 3ms/step - loss: 4177422336.0000 - mae: 45411.2539 - val_loss: 4318172672.0000 - val_mae: 45973.8164\n",
      "Epoch 37/50\n",
      "409/409 [==============================] - 2s 4ms/step - loss: 4173465600.0000 - mae: 45336.3516 - val_loss: 4318844416.0000 - val_mae: 45691.8750\n",
      "Epoch 38/50\n",
      "409/409 [==============================] - 1s 4ms/step - loss: 4169469952.0000 - mae: 45318.7109 - val_loss: 4309214208.0000 - val_mae: 45741.9609\n",
      "Epoch 39/50\n",
      "409/409 [==============================] - 1s 3ms/step - loss: 4159213056.0000 - mae: 45319.2109 - val_loss: 4313638400.0000 - val_mae: 45638.8789\n",
      "Epoch 40/50\n",
      "409/409 [==============================] - 1s 3ms/step - loss: 4157735680.0000 - mae: 45215.0078 - val_loss: 4292967424.0000 - val_mae: 45827.1055\n",
      "Epoch 41/50\n",
      "409/409 [==============================] - 2s 4ms/step - loss: 4150855680.0000 - mae: 45193.6758 - val_loss: 4299756032.0000 - val_mae: 45636.3398\n",
      "Epoch 42/50\n",
      "409/409 [==============================] - 1s 4ms/step - loss: 4148631808.0000 - mae: 45242.7812 - val_loss: 4286120448.0000 - val_mae: 45852.6680\n",
      "Epoch 43/50\n",
      "409/409 [==============================] - 1s 3ms/step - loss: 4148967168.0000 - mae: 45189.5703 - val_loss: 4296601600.0000 - val_mae: 45360.6250\n",
      "Epoch 44/50\n",
      "409/409 [==============================] - 2s 4ms/step - loss: 4137631488.0000 - mae: 45108.0117 - val_loss: 4302079488.0000 - val_mae: 45312.9375\n",
      "Epoch 45/50\n",
      "409/409 [==============================] - 1s 3ms/step - loss: 4134632704.0000 - mae: 45095.8750 - val_loss: 4267480576.0000 - val_mae: 45650.8320\n",
      "Epoch 46/50\n",
      "409/409 [==============================] - 1s 3ms/step - loss: 4130907904.0000 - mae: 45091.1992 - val_loss: 4261176832.0000 - val_mae: 45576.2656\n",
      "Epoch 47/50\n",
      "409/409 [==============================] - 1s 4ms/step - loss: 4127325440.0000 - mae: 45023.5938 - val_loss: 4267625472.0000 - val_mae: 45402.8398\n",
      "Epoch 48/50\n",
      "409/409 [==============================] - 2s 5ms/step - loss: 4125149952.0000 - mae: 45028.2188 - val_loss: 4263954432.0000 - val_mae: 45187.8398\n",
      "Epoch 49/50\n",
      "409/409 [==============================] - 1s 3ms/step - loss: 4116281856.0000 - mae: 44957.3359 - val_loss: 4275188992.0000 - val_mae: 45056.5625\n",
      "Epoch 50/50\n",
      "409/409 [==============================] - 1s 3ms/step - loss: 4119182336.0000 - mae: 44925.0000 - val_loss: 4257519360.0000 - val_mae: 45348.5078\n"
     ]
    }
   ],
   "source": [
    "model = Sequential()\n",
    "model.add(Dense(128, input_shape=(X_train.shape[1],),input_dim = 13 ,activation='relu')) # (features,)\n",
    "model.add(Dense(64, activation='relu'))\n",
    "model.add(Dense(32, activation='relu'))\n",
    "model.add(Dense(1, activation='linear')) # output node\n",
    "model.summary() # see what your model looks like\n",
    "\n",
    "# compile the model\n",
    "model.compile(optimizer='adam', loss='mean_squared_error', metrics=['mae'])\n",
    "# es = EarlyStopping(monitor='val_loss',\n",
    "#                    mode='min',\n",
    "#                    patience=50,\n",
    "#                    restore_best_weights = True)\n",
    "\n",
    "hist =model.fit(X_train, y_train,\n",
    "            validation_split=0.2,\n",
    "                    # callbacks=[es],\n",
    "            epochs=50,\n",
    "            batch_size=32,\n",
    "            verbose=1)"
   ]
  },
  {
   "cell_type": "code",
   "execution_count": 9,
   "metadata": {},
   "outputs": [
    {
     "name": "stdout",
     "output_type": "stream",
     "text": [
      "128/128 [==============================] - 1s 3ms/step\n",
      "511/511 [==============================] - 1s 2ms/step\n",
      "44977.27761194847\n",
      "45859.59644196848\n"
     ]
    }
   ],
   "source": [
    "pred = model.predict(X_test)\n",
    "trainpreds = model.predict(X_train)\n",
    "\n",
    "from sklearn.metrics import mean_absolute_error\n",
    "print(mean_absolute_error(y_train, trainpreds)) # train\n",
    "print(mean_absolute_error(y_test, pred)) # test"
   ]
  },
  {
   "cell_type": "code",
   "execution_count": 10,
   "metadata": {},
   "outputs": [
    {
     "data": {
      "image/png": "[encoded data removed]",
      "text/plain": [
       "<Figure size 640x480 with 1 Axes>"
      ]
     },
     "metadata": {},
     "output_type": "display_data"
    }
   ],
   "source": [
    "# plotting validation and training error\n",
    "import matplotlib.pyplot as plt\n",
    "import seaborn as sns\n",
    "\n",
    "plt.plot(hist.history['loss'])\n",
    "plt.plot(hist.history['val_loss'])\n",
    "plt.title('model loss')\n",
    "plt.ylabel('loss')\n",
    "plt.xlabel('epoch')\n",
    "plt.legend(['train', 'test'], loc='upper left')\n",
    "plt.show()"
   ]
  },
  {
   "cell_type": "code",
   "execution_count": 78,
   "metadata": {},
   "outputs": [
    {
     "name": "stdout",
     "output_type": "stream",
     "text": [
      "<class 'pandas.core.frame.DataFrame'>\n",
      "RangeIndex: 1309 entries, 0 to 1308\n",
      "Data columns (total 14 columns):\n",
      " #   Column     Non-Null Count  Dtype  \n",
      "---  ------     --------------  -----  \n",
      " 0   pclass     1309 non-null   int64  \n",
      " 1   survived   1309 non-null   int64  \n",
      " 2   name       1309 non-null   object \n",
      " 3   sex        1309 non-null   object \n",
      " 4   age        1046 non-null   float64\n",
      " 5   sibsp      1309 non-null   int64  \n",
      " 6   parch      1309 non-null   int64  \n",
      " 7   ticket     1309 non-null   object \n",
      " 8   fare       1308 non-null   float64\n",
      " 9   cabin      295 non-null    object \n",
      " 10  embarked   1307 non-null   object \n",
      " 11  boat       486 non-null    object \n",
      " 12  body       121 non-null    float64\n",
      " 13  home.dest  745 non-null    object \n",
      "dtypes: float64(3), int64(4), object(7)\n",
      "memory usage: 143.3+ KB\n"
     ]
    }
   ],
   "source": [
    "df = pd.read_csv(\"https://github.com/YBI-Foundation/Dataset/raw/main/Titanic.csv\")\n",
    "df.info()"
   ]
  },
  {
   "cell_type": "code",
   "execution_count": 79,
   "metadata": {},
   "outputs": [
    {
     "data": {
      "text/plain": [
       "pclass        0\n",
       "survived      0\n",
       "name          0\n",
       "sex           0\n",
       "age         263\n",
       "sibsp         0\n",
       "parch         0\n",
       "ticket        0\n",
       "fare          1\n",
       "embarked      2\n",
       "dtype: int64"
      ]
     },
     "execution_count": 79,
     "metadata": {},
     "output_type": "execute_result"
    }
   ],
   "source": [
    "df.drop(['body','home.dest','boat','cabin'],axis=1,inplace=True)\n",
    "df.isna().sum()"
   ]
  },
  {
   "cell_type": "code",
   "execution_count": 80,
   "metadata": {},
   "outputs": [],
   "source": [
    "df['age'].fillna(round(df['age'].mean()),inplace=True)\n",
    "df['fare'].fillna(df['fare'].median(),inplace=True)\n",
    "df['embarked'].fillna(df['embarked'].mode()[0],inplace=True)"
   ]
  },
  {
   "cell_type": "code",
   "execution_count": 81,
   "metadata": {},
   "outputs": [],
   "source": [
    "df.replace({'sex':{'male':0,'female':1}, 'embarked':{'S':0,'C':1,'Q':2}}, inplace=True)\n"
   ]
  },
  {
   "cell_type": "code",
   "execution_count": 85,
   "metadata": {},
   "outputs": [],
   "source": [
    "X = df.drop(columns = ['name','ticket','survived'],axis=1)\n",
    "y=df['survived']\n",
    "X_train, X_test, y_train, y_test = train_test_split(X, y, test_size = 0.2, random_state=42)"
   ]
  },
  {
   "cell_type": "code",
   "execution_count": 86,
   "metadata": {},
   "outputs": [
    {
     "name": "stdout",
     "output_type": "stream",
     "text": [
      "Epoch 1/50\n",
      "66/66 [==============================] - 2s 14ms/step - loss: 0.6732 - accuracy: 0.6638 - val_loss: 0.6384 - val_accuracy: 0.6412\n",
      "Epoch 2/50\n",
      "66/66 [==============================] - 0s 4ms/step - loss: 0.6203 - accuracy: 0.6925 - val_loss: 0.6240 - val_accuracy: 0.6336\n",
      "Epoch 3/50\n",
      "66/66 [==============================] - 0s 4ms/step - loss: 0.6307 - accuracy: 0.7077 - val_loss: 0.5916 - val_accuracy: 0.6641\n",
      "Epoch 4/50\n",
      "66/66 [==============================] - 0s 6ms/step - loss: 0.5602 - accuracy: 0.7230 - val_loss: 0.5630 - val_accuracy: 0.6870\n",
      "Epoch 5/50\n",
      "66/66 [==============================] - 0s 4ms/step - loss: 0.5608 - accuracy: 0.7259 - val_loss: 0.5964 - val_accuracy: 0.6985\n",
      "Epoch 6/50\n",
      "66/66 [==============================] - 0s 4ms/step - loss: 0.5534 - accuracy: 0.7287 - val_loss: 0.5391 - val_accuracy: 0.7176\n",
      "Epoch 7/50\n",
      "66/66 [==============================] - 0s 4ms/step - loss: 0.5135 - accuracy: 0.7689 - val_loss: 0.6156 - val_accuracy: 0.6603\n",
      "Epoch 8/50\n",
      "66/66 [==============================] - 0s 4ms/step - loss: 0.5408 - accuracy: 0.7555 - val_loss: 0.5777 - val_accuracy: 0.6832\n",
      "Epoch 9/50\n",
      "66/66 [==============================] - 0s 4ms/step - loss: 0.4987 - accuracy: 0.7679 - val_loss: 0.5157 - val_accuracy: 0.7405\n",
      "Epoch 10/50\n",
      "66/66 [==============================] - 0s 4ms/step - loss: 0.5094 - accuracy: 0.7717 - val_loss: 0.4928 - val_accuracy: 0.7481\n",
      "Epoch 11/50\n",
      "66/66 [==============================] - 0s 4ms/step - loss: 0.5016 - accuracy: 0.7765 - val_loss: 0.4931 - val_accuracy: 0.7557\n",
      "Epoch 12/50\n",
      "66/66 [==============================] - 0s 4ms/step - loss: 0.4809 - accuracy: 0.7899 - val_loss: 0.4958 - val_accuracy: 0.7748\n",
      "Epoch 13/50\n",
      "66/66 [==============================] - 0s 4ms/step - loss: 0.4836 - accuracy: 0.7870 - val_loss: 0.4862 - val_accuracy: 0.7634\n",
      "Epoch 14/50\n",
      "66/66 [==============================] - 0s 4ms/step - loss: 0.4853 - accuracy: 0.7822 - val_loss: 0.5542 - val_accuracy: 0.7443\n",
      "Epoch 15/50\n",
      "66/66 [==============================] - 0s 4ms/step - loss: 0.5104 - accuracy: 0.7631 - val_loss: 0.5176 - val_accuracy: 0.7748\n",
      "Epoch 16/50\n",
      "66/66 [==============================] - 0s 4ms/step - loss: 0.4832 - accuracy: 0.7784 - val_loss: 0.5131 - val_accuracy: 0.7634\n",
      "Epoch 17/50\n",
      "66/66 [==============================] - 0s 4ms/step - loss: 0.4719 - accuracy: 0.7889 - val_loss: 0.4950 - val_accuracy: 0.7443\n",
      "Epoch 18/50\n",
      "66/66 [==============================] - 0s 4ms/step - loss: 0.4739 - accuracy: 0.7870 - val_loss: 0.4888 - val_accuracy: 0.7595\n",
      "Epoch 19/50\n",
      "66/66 [==============================] - 0s 4ms/step - loss: 0.4744 - accuracy: 0.7975 - val_loss: 0.5013 - val_accuracy: 0.7405\n",
      "Epoch 20/50\n",
      "66/66 [==============================] - 0s 4ms/step - loss: 0.4687 - accuracy: 0.7880 - val_loss: 0.4943 - val_accuracy: 0.7519\n",
      "Epoch 21/50\n",
      "66/66 [==============================] - 0s 4ms/step - loss: 0.4649 - accuracy: 0.7851 - val_loss: 0.4851 - val_accuracy: 0.7634\n",
      "Epoch 22/50\n",
      "66/66 [==============================] - 0s 4ms/step - loss: 0.4754 - accuracy: 0.7861 - val_loss: 0.5944 - val_accuracy: 0.7252\n",
      "Epoch 23/50\n",
      "66/66 [==============================] - 0s 4ms/step - loss: 0.4864 - accuracy: 0.7784 - val_loss: 0.5238 - val_accuracy: 0.7672\n",
      "Epoch 24/50\n",
      "66/66 [==============================] - 0s 4ms/step - loss: 0.4983 - accuracy: 0.7717 - val_loss: 0.5077 - val_accuracy: 0.7672\n",
      "Epoch 25/50\n",
      "66/66 [==============================] - 0s 4ms/step - loss: 0.4913 - accuracy: 0.7918 - val_loss: 0.4887 - val_accuracy: 0.7634\n",
      "Epoch 26/50\n",
      "66/66 [==============================] - 0s 4ms/step - loss: 0.4690 - accuracy: 0.7870 - val_loss: 0.5741 - val_accuracy: 0.7672\n",
      "Epoch 27/50\n",
      "66/66 [==============================] - 0s 4ms/step - loss: 0.4753 - accuracy: 0.7708 - val_loss: 0.5120 - val_accuracy: 0.7786\n",
      "Epoch 28/50\n",
      "66/66 [==============================] - 0s 4ms/step - loss: 0.4543 - accuracy: 0.7966 - val_loss: 0.5287 - val_accuracy: 0.7710\n",
      "Epoch 29/50\n",
      "66/66 [==============================] - 0s 4ms/step - loss: 0.4680 - accuracy: 0.7975 - val_loss: 0.4848 - val_accuracy: 0.7595\n",
      "Epoch 30/50\n",
      "66/66 [==============================] - 0s 4ms/step - loss: 0.4917 - accuracy: 0.7822 - val_loss: 0.5414 - val_accuracy: 0.7634\n",
      "Epoch 31/50\n",
      "66/66 [==============================] - 0s 5ms/step - loss: 0.4587 - accuracy: 0.7937 - val_loss: 0.4912 - val_accuracy: 0.7557\n",
      "Epoch 32/50\n",
      "66/66 [==============================] - 0s 4ms/step - loss: 0.4647 - accuracy: 0.7861 - val_loss: 0.5383 - val_accuracy: 0.7595\n",
      "Epoch 33/50\n",
      "66/66 [==============================] - 0s 4ms/step - loss: 0.4462 - accuracy: 0.7937 - val_loss: 0.5177 - val_accuracy: 0.7557\n",
      "Epoch 34/50\n",
      "66/66 [==============================] - 0s 3ms/step - loss: 0.4572 - accuracy: 0.7956 - val_loss: 0.4946 - val_accuracy: 0.7519\n",
      "Epoch 35/50\n",
      "66/66 [==============================] - 0s 4ms/step - loss: 0.4695 - accuracy: 0.7755 - val_loss: 0.5363 - val_accuracy: 0.7710\n",
      "Epoch 36/50\n",
      "66/66 [==============================] - 0s 4ms/step - loss: 0.4558 - accuracy: 0.7870 - val_loss: 0.5060 - val_accuracy: 0.7634\n",
      "Epoch 37/50\n",
      "66/66 [==============================] - 0s 4ms/step - loss: 0.4417 - accuracy: 0.8013 - val_loss: 0.4888 - val_accuracy: 0.7557\n",
      "Epoch 38/50\n",
      "66/66 [==============================] - 0s 4ms/step - loss: 0.4563 - accuracy: 0.7966 - val_loss: 0.5019 - val_accuracy: 0.7557\n",
      "Epoch 39/50\n",
      "66/66 [==============================] - 0s 4ms/step - loss: 0.4569 - accuracy: 0.7994 - val_loss: 0.5196 - val_accuracy: 0.7481\n",
      "Epoch 40/50\n",
      "66/66 [==============================] - 0s 4ms/step - loss: 0.4568 - accuracy: 0.8004 - val_loss: 0.5168 - val_accuracy: 0.7634\n",
      "Epoch 41/50\n",
      "66/66 [==============================] - 0s 4ms/step - loss: 0.4396 - accuracy: 0.7947 - val_loss: 0.4904 - val_accuracy: 0.7557\n",
      "Epoch 42/50\n",
      "66/66 [==============================] - 0s 4ms/step - loss: 0.4425 - accuracy: 0.7947 - val_loss: 0.5046 - val_accuracy: 0.7519\n",
      "Epoch 43/50\n",
      "66/66 [==============================] - 0s 4ms/step - loss: 0.4419 - accuracy: 0.8032 - val_loss: 0.4980 - val_accuracy: 0.7710\n",
      "Epoch 44/50\n",
      "66/66 [==============================] - 0s 4ms/step - loss: 0.4408 - accuracy: 0.7947 - val_loss: 0.4936 - val_accuracy: 0.7786\n",
      "Epoch 45/50\n",
      "66/66 [==============================] - 0s 4ms/step - loss: 0.4404 - accuracy: 0.8061 - val_loss: 0.5278 - val_accuracy: 0.7672\n",
      "Epoch 46/50\n",
      "66/66 [==============================] - 0s 4ms/step - loss: 0.4392 - accuracy: 0.8023 - val_loss: 0.4881 - val_accuracy: 0.7634\n",
      "Epoch 47/50\n",
      "66/66 [==============================] - 0s 4ms/step - loss: 0.4465 - accuracy: 0.8004 - val_loss: 0.5276 - val_accuracy: 0.7710\n",
      "Epoch 48/50\n",
      "66/66 [==============================] - 0s 4ms/step - loss: 0.4457 - accuracy: 0.8052 - val_loss: 0.4998 - val_accuracy: 0.7672\n",
      "Epoch 49/50\n",
      "66/66 [==============================] - 0s 4ms/step - loss: 0.4375 - accuracy: 0.8061 - val_loss: 0.5007 - val_accuracy: 0.7710\n",
      "Epoch 50/50\n",
      "66/66 [==============================] - 0s 4ms/step - loss: 0.4519 - accuracy: 0.7975 - val_loss: 0.4957 - val_accuracy: 0.7748\n"
     ]
    },
    {
     "data": {
      "text/plain": [
       "<keras.callbacks.History at 0x22f455c0c40>"
      ]
     },
     "execution_count": 86,
     "metadata": {},
     "output_type": "execute_result"
    }
   ],
   "source": [
    "model = Sequential()\n",
    "model.add(Dense(64, input_shape=(X_train.shape[1],), activation='relu')) # (features,)\n",
    "model.add(Dense(32, activation='relu'))\n",
    "model.add(Dense(1, activation='sigmoid')) # output node\n",
    "\n",
    "model.compile(optimizer='adam', loss='binary_crossentropy', metrics=['accuracy'])\n",
    "model.fit(X_train, y_train, validation_data=(X_test, y_test), epochs=50, batch_size=16)"
   ]
  },
  {
   "cell_type": "code",
   "execution_count": 92,
   "metadata": {},
   "outputs": [
    {
     "data": {
      "image/png": "[encoded data removed]",
      "text/plain": [
       "<Figure size 640x480 with 1 Axes>"
      ]
     },
     "metadata": {},
     "output_type": "display_data"
    }
   ],
   "source": [
    "# plot the accuracy\n",
    "plt.plot(model.history.history['accuracy'])\n",
    "plt.plot(model.history.history['val_accuracy'])\n",
    "plt.title('model accuracy')\n",
    "plt.ylabel('accuracy')\n",
    "plt.xlabel('epoch')\n",
    "plt.legend(['train', 'test'], loc='upper left')\n",
    "plt.show()"
   ]
  }
 ],
 "metadata": {
  "kernelspec": {
   "display_name": "Python 3.8.0 64-bit",
   "language": "python",
   "name": "python3"
  },
  "language_info": {
   "codemirror_mode": {
    "name": "ipython",
    "version": 3
   },
   "file_extension": ".py",
   "mimetype": "text/x-python",
   "name": "python",
   "nbconvert_exporter": "python",
   "pygments_lexer": "ipython3",
   "version": "3.8.0"
  },
  "orig_nbformat": 4,
  "vscode": {
   "interpreter": {
    "hash": "494deeb4eea7fb63b62f74ba02ace728543e0003fbb675bfec79f4f4980c3f04"
   }
  }
 },
 "nbformat": 4,
 "nbformat_minor": 2
}
