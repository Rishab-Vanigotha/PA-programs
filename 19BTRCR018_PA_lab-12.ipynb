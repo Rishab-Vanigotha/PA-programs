{
 "cells": [
  {
   "cell_type": "code",
   "execution_count": 1,
   "metadata": {},
   "outputs": [],
   "source": [
    "# General data analysis/plotting\n",
    "import pandas as pd\n",
    "import matplotlib.pyplot as plt\n",
    "import numpy as np\n",
    "\n",
    "# Data preprocessing\n",
    "from sklearn.preprocessing import StandardScaler\n",
    "from sklearn.model_selection import train_test_split\n",
    "\n",
    "# Neural Net modules\n",
    "from tensorflow.keras.models import Sequential\n",
    "from tensorflow.keras.layers import Dense"
   ]
  },
  {
   "cell_type": "code",
   "execution_count": 2,
   "metadata": {},
   "outputs": [
    {
     "name": "stdout",
     "output_type": "stream",
     "text": [
      "<class 'pandas.core.frame.DataFrame'>\n",
      "RangeIndex: 1309 entries, 0 to 1308\n",
      "Data columns (total 14 columns):\n",
      " #   Column     Non-Null Count  Dtype  \n",
      "---  ------     --------------  -----  \n",
      " 0   pclass     1309 non-null   int64  \n",
      " 1   survived   1309 non-null   int64  \n",
      " 2   name       1309 non-null   object \n",
      " 3   sex        1309 non-null   object \n",
      " 4   age        1046 non-null   float64\n",
      " 5   sibsp      1309 non-null   int64  \n",
      " 6   parch      1309 non-null   int64  \n",
      " 7   ticket     1309 non-null   object \n",
      " 8   fare       1308 non-null   float64\n",
      " 9   cabin      295 non-null    object \n",
      " 10  embarked   1307 non-null   object \n",
      " 11  boat       486 non-null    object \n",
      " 12  body       121 non-null    float64\n",
      " 13  home.dest  745 non-null    object \n",
      "dtypes: float64(3), int64(4), object(7)\n",
      "memory usage: 143.3+ KB\n"
     ]
    }
   ],
   "source": [
    "df = pd.read_csv(\"https://github.com/YBI-Foundation/Dataset/raw/main/Titanic.csv\")\n",
    "df.info()"
   ]
  },
  {
   "cell_type": "code",
   "execution_count": 3,
   "metadata": {},
   "outputs": [
    {
     "data": {
      "text/plain": [
       "pclass        0\n",
       "survived      0\n",
       "name          0\n",
       "sex           0\n",
       "age         263\n",
       "sibsp         0\n",
       "parch         0\n",
       "ticket        0\n",
       "fare          1\n",
       "embarked      2\n",
       "dtype: int64"
      ]
     },
     "execution_count": 3,
     "metadata": {},
     "output_type": "execute_result"
    }
   ],
   "source": [
    "df.drop(['body','home.dest','boat','cabin'],axis=1,inplace=True)\n",
    "df.isna().sum()"
   ]
  },
  {
   "cell_type": "code",
   "execution_count": 4,
   "metadata": {},
   "outputs": [],
   "source": [
    "df['age'].fillna(round(df['age'].mean()),inplace=True)\n",
    "df['fare'].fillna(df['fare'].median(),inplace=True)\n",
    "df['embarked'].fillna(df['embarked'].mode()[0],inplace=True)"
   ]
  },
  {
   "cell_type": "code",
   "execution_count": 5,
   "metadata": {},
   "outputs": [],
   "source": [
    "df.replace({'sex':{'male':0,'female':1}, 'embarked':{'S':0,'C':1,'Q':2}}, inplace=True)\n"
   ]
  },
  {
   "cell_type": "code",
   "execution_count": 6,
   "metadata": {},
   "outputs": [],
   "source": [
    "X = df.drop(columns = ['name','ticket','survived'],axis=1)\n",
    "y=df['survived']\n",
    "X_train, X_test, y_train, y_test = train_test_split(X, y, test_size = 0.2, random_state=42)"
   ]
  },
  {
   "cell_type": "code",
   "execution_count": 7,
   "metadata": {},
   "outputs": [
    {
     "name": "stdout",
     "output_type": "stream",
     "text": [
      "Support Vector Classifier Accuracy 0.7557251908396947\n"
     ]
    }
   ],
   "source": [
    "from sklearn.svm import SVC\n",
    "from sklearn.metrics import accuracy_score\n",
    "\n",
    "svc = SVC(C=1.0, random_state=1, kernel='linear')\n",
    "svc.fit(X_train, y_train)\n",
    "pred = svc.predict(X_test)\n",
    "print('Support Vector Classifier Accuracy', accuracy_score(pred, y_test))"
   ]
  },
  {
   "cell_type": "code",
   "execution_count": 8,
   "metadata": {},
   "outputs": [
    {
     "name": "stdout",
     "output_type": "stream",
     "text": [
      "Decision Tree Classifier Accuracy 0.7595419847328244\n"
     ]
    }
   ],
   "source": [
    "from sklearn.tree import DecisionTreeClassifier\n",
    "dt = DecisionTreeClassifier(criterion = 'entropy',random_state=42)\n",
    "dt.fit(X_train, y_train)\n",
    "pred = dt.predict(X_test)\n",
    "print('Decision Tree Classifier Accuracy', accuracy_score(pred, y_test))"
   ]
  },
  {
   "cell_type": "code",
   "execution_count": 9,
   "metadata": {},
   "outputs": [
    {
     "name": "stdout",
     "output_type": "stream",
     "text": [
      "K Nearest Neighbors Classifier Accuracy 0.6641221374045801\n"
     ]
    }
   ],
   "source": [
    "from sklearn.neighbors import KNeighborsClassifier\n",
    "knn = KNeighborsClassifier(n_neighbors = 36) \n",
    "knn.fit(X_train, y_train)  \n",
    "pred = knn.predict(X_test)  \n",
    "print('K Nearest Neighbors Classifier Accuracy', accuracy_score(pred, y_test))"
   ]
  },
  {
   "cell_type": "code",
   "execution_count": 10,
   "metadata": {},
   "outputs": [
    {
     "name": "stdout",
     "output_type": "stream",
     "text": [
      "Epoch 1/50\n",
      "66/66 [==============================] - 5s 15ms/step - loss: 0.8595 - accuracy: 0.5931 - val_loss: 0.7044 - val_accuracy: 0.5802\n",
      "Epoch 2/50\n",
      "66/66 [==============================] - 0s 4ms/step - loss: 0.6074 - accuracy: 0.6628 - val_loss: 0.6271 - val_accuracy: 0.6679\n",
      "Epoch 3/50\n",
      "66/66 [==============================] - 0s 5ms/step - loss: 0.5896 - accuracy: 0.6972 - val_loss: 0.6600 - val_accuracy: 0.6069\n",
      "Epoch 4/50\n",
      "66/66 [==============================] - 0s 5ms/step - loss: 0.5775 - accuracy: 0.7240 - val_loss: 0.5930 - val_accuracy: 0.7061\n",
      "Epoch 5/50\n",
      "66/66 [==============================] - 0s 7ms/step - loss: 0.5708 - accuracy: 0.7221 - val_loss: 0.5703 - val_accuracy: 0.7061\n",
      "Epoch 6/50\n",
      "66/66 [==============================] - 0s 5ms/step - loss: 0.5515 - accuracy: 0.7450 - val_loss: 0.5519 - val_accuracy: 0.7099\n",
      "Epoch 7/50\n",
      "66/66 [==============================] - 0s 5ms/step - loss: 0.5474 - accuracy: 0.7479 - val_loss: 0.5423 - val_accuracy: 0.7290\n",
      "Epoch 8/50\n",
      "66/66 [==============================] - 0s 6ms/step - loss: 0.5417 - accuracy: 0.7574 - val_loss: 0.5278 - val_accuracy: 0.7328\n",
      "Epoch 9/50\n",
      "66/66 [==============================] - 0s 5ms/step - loss: 0.5162 - accuracy: 0.7564 - val_loss: 0.6288 - val_accuracy: 0.6336\n",
      "Epoch 10/50\n",
      "66/66 [==============================] - 0s 4ms/step - loss: 0.5185 - accuracy: 0.7584 - val_loss: 0.5090 - val_accuracy: 0.7481\n",
      "Epoch 11/50\n",
      "66/66 [==============================] - 0s 6ms/step - loss: 0.4930 - accuracy: 0.7813 - val_loss: 0.5155 - val_accuracy: 0.7443\n",
      "Epoch 12/50\n",
      "66/66 [==============================] - 0s 5ms/step - loss: 0.4941 - accuracy: 0.7813 - val_loss: 0.5112 - val_accuracy: 0.7595\n",
      "Epoch 13/50\n",
      "66/66 [==============================] - 0s 4ms/step - loss: 0.4752 - accuracy: 0.7975 - val_loss: 0.6033 - val_accuracy: 0.7023\n",
      "Epoch 14/50\n",
      "66/66 [==============================] - 0s 4ms/step - loss: 0.4916 - accuracy: 0.7803 - val_loss: 0.4933 - val_accuracy: 0.7557\n",
      "Epoch 15/50\n",
      "66/66 [==============================] - 0s 4ms/step - loss: 0.4852 - accuracy: 0.7889 - val_loss: 0.5047 - val_accuracy: 0.7672\n",
      "Epoch 16/50\n",
      "66/66 [==============================] - 0s 5ms/step - loss: 0.4666 - accuracy: 0.7899 - val_loss: 0.4958 - val_accuracy: 0.7710\n",
      "Epoch 17/50\n",
      "66/66 [==============================] - 0s 4ms/step - loss: 0.4784 - accuracy: 0.7727 - val_loss: 0.6419 - val_accuracy: 0.6756\n",
      "Epoch 18/50\n",
      "66/66 [==============================] - 0s 4ms/step - loss: 0.5063 - accuracy: 0.7689 - val_loss: 0.5534 - val_accuracy: 0.7405\n",
      "Epoch 19/50\n",
      "66/66 [==============================] - 0s 4ms/step - loss: 0.5177 - accuracy: 0.7765 - val_loss: 0.5005 - val_accuracy: 0.7748\n",
      "Epoch 20/50\n",
      "66/66 [==============================] - 0s 4ms/step - loss: 0.4599 - accuracy: 0.7956 - val_loss: 0.5050 - val_accuracy: 0.7748\n",
      "Epoch 21/50\n",
      "66/66 [==============================] - 0s 4ms/step - loss: 0.4748 - accuracy: 0.7851 - val_loss: 0.4920 - val_accuracy: 0.7672\n",
      "Epoch 22/50\n",
      "66/66 [==============================] - 0s 4ms/step - loss: 0.4578 - accuracy: 0.8042 - val_loss: 0.4933 - val_accuracy: 0.7710\n",
      "Epoch 23/50\n",
      "66/66 [==============================] - 0s 4ms/step - loss: 0.4527 - accuracy: 0.8004 - val_loss: 0.5699 - val_accuracy: 0.7443\n",
      "Epoch 24/50\n",
      "66/66 [==============================] - 0s 4ms/step - loss: 0.4517 - accuracy: 0.8023 - val_loss: 0.4841 - val_accuracy: 0.7634\n",
      "Epoch 25/50\n",
      "66/66 [==============================] - 0s 4ms/step - loss: 0.4576 - accuracy: 0.7937 - val_loss: 0.4850 - val_accuracy: 0.7672\n",
      "Epoch 26/50\n",
      "66/66 [==============================] - 0s 4ms/step - loss: 0.4680 - accuracy: 0.7899 - val_loss: 0.5444 - val_accuracy: 0.7710\n",
      "Epoch 27/50\n",
      "66/66 [==============================] - 0s 5ms/step - loss: 0.4596 - accuracy: 0.7899 - val_loss: 0.5703 - val_accuracy: 0.7557\n",
      "Epoch 28/50\n",
      "66/66 [==============================] - 1s 8ms/step - loss: 0.4666 - accuracy: 0.8004 - val_loss: 0.4876 - val_accuracy: 0.7557\n",
      "Epoch 29/50\n",
      "66/66 [==============================] - 1s 10ms/step - loss: 0.4848 - accuracy: 0.7813 - val_loss: 0.5192 - val_accuracy: 0.7710\n",
      "Epoch 30/50\n",
      "66/66 [==============================] - 1s 8ms/step - loss: 0.4466 - accuracy: 0.7975 - val_loss: 0.5329 - val_accuracy: 0.7366\n",
      "Epoch 31/50\n",
      "66/66 [==============================] - 0s 5ms/step - loss: 0.4628 - accuracy: 0.7956 - val_loss: 0.5072 - val_accuracy: 0.7595\n",
      "Epoch 32/50\n",
      "66/66 [==============================] - 0s 4ms/step - loss: 0.4597 - accuracy: 0.7966 - val_loss: 0.5036 - val_accuracy: 0.7519\n",
      "Epoch 33/50\n",
      "66/66 [==============================] - 0s 4ms/step - loss: 0.4582 - accuracy: 0.8061 - val_loss: 0.5030 - val_accuracy: 0.7786\n",
      "Epoch 34/50\n",
      "66/66 [==============================] - 0s 4ms/step - loss: 0.4554 - accuracy: 0.7966 - val_loss: 0.5036 - val_accuracy: 0.7863\n",
      "Epoch 35/50\n",
      "66/66 [==============================] - 0s 4ms/step - loss: 0.4426 - accuracy: 0.8080 - val_loss: 0.4921 - val_accuracy: 0.7634\n",
      "Epoch 36/50\n",
      "66/66 [==============================] - 0s 6ms/step - loss: 0.4442 - accuracy: 0.8061 - val_loss: 0.4887 - val_accuracy: 0.7595\n",
      "Epoch 37/50\n",
      "66/66 [==============================] - 0s 6ms/step - loss: 0.4707 - accuracy: 0.7908 - val_loss: 0.5107 - val_accuracy: 0.7595\n",
      "Epoch 38/50\n",
      "66/66 [==============================] - 0s 4ms/step - loss: 0.4819 - accuracy: 0.7880 - val_loss: 0.5086 - val_accuracy: 0.7748\n",
      "Epoch 39/50\n",
      "66/66 [==============================] - 0s 4ms/step - loss: 0.4568 - accuracy: 0.7918 - val_loss: 0.4902 - val_accuracy: 0.7786\n",
      "Epoch 40/50\n",
      "66/66 [==============================] - 0s 4ms/step - loss: 0.4519 - accuracy: 0.7947 - val_loss: 0.6337 - val_accuracy: 0.7252\n",
      "Epoch 41/50\n",
      "66/66 [==============================] - 0s 4ms/step - loss: 0.4527 - accuracy: 0.8071 - val_loss: 0.5007 - val_accuracy: 0.7863\n",
      "Epoch 42/50\n",
      "66/66 [==============================] - 0s 4ms/step - loss: 0.4401 - accuracy: 0.7966 - val_loss: 0.4929 - val_accuracy: 0.7672\n",
      "Epoch 43/50\n",
      "66/66 [==============================] - 0s 4ms/step - loss: 0.4409 - accuracy: 0.8071 - val_loss: 0.4970 - val_accuracy: 0.7824\n",
      "Epoch 44/50\n",
      "66/66 [==============================] - 0s 4ms/step - loss: 0.4495 - accuracy: 0.7994 - val_loss: 0.5439 - val_accuracy: 0.7519\n",
      "Epoch 45/50\n",
      "66/66 [==============================] - 0s 4ms/step - loss: 0.4532 - accuracy: 0.8071 - val_loss: 0.5036 - val_accuracy: 0.7901\n",
      "Epoch 46/50\n",
      "66/66 [==============================] - 0s 4ms/step - loss: 0.4407 - accuracy: 0.8032 - val_loss: 0.5902 - val_accuracy: 0.7443\n",
      "Epoch 47/50\n",
      "66/66 [==============================] - 0s 4ms/step - loss: 0.4381 - accuracy: 0.8052 - val_loss: 0.5027 - val_accuracy: 0.7748\n",
      "Epoch 48/50\n",
      "66/66 [==============================] - 0s 4ms/step - loss: 0.4350 - accuracy: 0.8061 - val_loss: 0.5159 - val_accuracy: 0.7786\n",
      "Epoch 49/50\n",
      "66/66 [==============================] - 0s 4ms/step - loss: 0.4447 - accuracy: 0.8052 - val_loss: 0.5308 - val_accuracy: 0.7595\n",
      "Epoch 50/50\n",
      "66/66 [==============================] - 0s 4ms/step - loss: 0.4363 - accuracy: 0.8109 - val_loss: 0.4986 - val_accuracy: 0.7748\n"
     ]
    },
    {
     "data": {
      "text/plain": [
       "<keras.callbacks.History at 0x15d7003d4f0>"
      ]
     },
     "execution_count": 10,
     "metadata": {},
     "output_type": "execute_result"
    }
   ],
   "source": [
    "model = Sequential()\n",
    "model.add(Dense(64, input_shape=(X_train.shape[1],), activation='relu')) # (features,)\n",
    "model.add(Dense(32, activation='relu'))\n",
    "model.add(Dense(1, activation='sigmoid')) # output node\n",
    "\n",
    "model.compile(optimizer='adam', loss='binary_crossentropy', metrics=['accuracy'])\n",
    "model.fit(X_train, y_train, validation_data=(X_test, y_test), epochs=50, batch_size=16)"
   ]
  },
  {
   "cell_type": "code",
   "execution_count": 11,
   "metadata": {},
   "outputs": [
    {
     "data": {
      "image/png": "[encoded data removed]",
      "text/plain": [
       "<Figure size 640x480 with 1 Axes>"
      ]
     },
     "metadata": {},
     "output_type": "display_data"
    }
   ],
   "source": [
    "# plot the accuracy\n",
    "plt.plot(model.history.history['accuracy'])\n",
    "plt.plot(model.history.history['val_accuracy'])\n",
    "plt.title('model accuracy')\n",
    "plt.ylabel('accuracy')\n",
    "plt.xlabel('epoch')\n",
    "plt.legend(['train', 'test'], loc='upper left')\n",
    "plt.show()"
   ]
  },
  {
   "cell_type": "code",
   "execution_count": null,
   "metadata": {},
   "outputs": [],
   "source": []
  }
 ],
 "metadata": {
  "kernelspec": {
   "display_name": "Python 3.8.0 64-bit",
   "language": "python",
   "name": "python3"
  },
  "language_info": {
   "codemirror_mode": {
    "name": "ipython",
    "version": 3
   },
   "file_extension": ".py",
   "mimetype": "text/x-python",
   "name": "python",
   "nbconvert_exporter": "python",
   "pygments_lexer": "ipython3",
   "version": "3.8.0"
  },
  "orig_nbformat": 4,
  "vscode": {
   "interpreter": {
    "hash": "494deeb4eea7fb63b62f74ba02ace728543e0003fbb675bfec79f4f4980c3f04"
   }
  }
 },
 "nbformat": 4,
 "nbformat_minor": 2
}
